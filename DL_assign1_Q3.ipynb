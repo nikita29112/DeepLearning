{
 "cells": [
  {
   "cell_type": "markdown",
   "id": "9df1227e",
   "metadata": {},
   "source": [
    "# Deep Learning Assignment 1"
   ]
  },
  {
   "cell_type": "markdown",
   "id": "def4d84b",
   "metadata": {},
   "source": [
    "## Question 3"
   ]
  },
  {
   "cell_type": "code",
   "execution_count": 1,
   "id": "2af423c3",
   "metadata": {},
   "outputs": [],
   "source": [
    "import math\n",
    "import random"
   ]
  },
  {
   "cell_type": "code",
   "execution_count": 4,
   "id": "9bebdc07",
   "metadata": {},
   "outputs": [],
   "source": [
    "# sigmoid function\n",
    "def sigmoid(z):\n",
    "    sig = 1 / (1 + math.exp(-z))\n",
    "    \n",
    "    return sig\n",
    "\n",
    "# softmax function\n",
    "def softmax(z):\n",
    "    numerator = [math.exp(i) for i in z]\n",
    "    denominator = sum(numerator)\n",
    "    output = [n/denominator for n in numerator]\n",
    "    \n",
    "    return output\n",
    "\n",
    "# initialize vector of zeros\n",
    "def zero_vector(dim):\n",
    "    listofzeros = [0] * dim\n",
    "    \n",
    "    return listofzeros\n",
    "\n",
    "# cross entropy loss\n",
    "def cross_entropy_loss(ypred):\n",
    "    ce_loss = -math.log(ypred)\n",
    "    \n",
    "    return ce_loss\n",
    "\n",
    "def calculate_loss(ypred, y):\n",
    "    if y == 1:\n",
    "        loss = cross_entropy_loss(ypred[0])\n",
    "    \n",
    "    elif y == 0:\n",
    "        loss = cross_entropy_loss(ypred[1])\n",
    "    \n",
    "    else:\n",
    "        loss = 0\n",
    "        \n",
    "    return loss"
   ]
  },
  {
   "cell_type": "code",
   "execution_count": 8,
   "id": "9cb350ae",
   "metadata": {},
   "outputs": [],
   "source": [
    "# forward propagation\n",
    "def forward_propagate(x, W, b, V, c):\n",
    "    \"\"\"\n",
    "    forward propagation for a two layer neural network\n",
    "    \n",
    "    Arguments:\n",
    "    x - input\n",
    "    weights -- \n",
    "        W - weights, layer 1\n",
    "        b - bias, layer 1\n",
    "        V - weights, layer 2\n",
    "        c - bias, layer 2\n",
    "    y - true label: [1, 0]\n",
    "\n",
    "    Return: parameters\n",
    "    \"\"\"\n",
    "    \n",
    "    # Forward Propagation (from x to loss)\n",
    "    k = zero_vector(3)\n",
    "    for j in range(len(k)):\n",
    "        for i in range(len(x)):\n",
    "            k[j] += W[i][j] * x[i]\n",
    "        k[j] += b[j]\n",
    "    \n",
    "    # 1st activation: sigmoid\n",
    "    h = zero_vector(len(k))\n",
    "    for i in range(len(k)):\n",
    "        h[i] = sigmoid(k[i])\n",
    "        \n",
    "    o = zero_vector(2)\n",
    "    for j in range(len(o)):\n",
    "        for i in range(len(h)):\n",
    "            o[j] = V[i][j] * h[i]\n",
    "        o[j] += c[j]\n",
    "    \n",
    "    # 2nd activation: softmax\n",
    "    ypred = softmax(o)\n",
    "\n",
    "    parameters = {'k': k, 'h': h, 'o': o, 'ypred': ypred}\n",
    "    \n",
    "    return parameters"
   ]
  },
  {
   "cell_type": "code",
   "execution_count": 28,
   "id": "91ac908f",
   "metadata": {},
   "outputs": [],
   "source": [
    "def back_propagate(x, W, b, V, c, y, parameters):\n",
    "    \"\"\"\n",
    "    back propagation for a two layer neural network\n",
    "    \n",
    "    Arguments:\n",
    "    x - input\n",
    "    W - weights, layer 1\n",
    "    b - bias, layer 1\n",
    "    V - weights, layer 2\n",
    "    c - bias, layer 2\n",
    "    y - true label: [1, 0]\n",
    "    paramters - (k, h, s, o, l)\n",
    "\n",
    "    Return: gradients\n",
    "    \"\"\"\n",
    "    \n",
    "    k = parameters['k']\n",
    "    h = parameters['h']\n",
    "    o = parameters['o']\n",
    "    ypred = parameters['ypred']\n",
    "    \n",
    "    grad_ypred = zero_vector(len(ypred))\n",
    "    for i in range(len(ypred)):\n",
    "        if y == 1: \n",
    "            grad_ypred[i] = -1/ypred[i]\n",
    "    \n",
    "    grad_o = zero_vector(len(o))\n",
    "    for i in range(len(o)):\n",
    "        for j in range(len(o)):\n",
    "            if i == j:\n",
    "                grad_o[j] += grad_ypred[i] * (ypred[i] * (1 - ypred[i]))\n",
    "            elif i!=j:\n",
    "                grad_o[j] += grad_ypred[i] * (-ypred[i] * ypred[j])\n",
    "\n",
    "    grad_h = zero_vector(len(h))\n",
    "    grad_V = [zero_vector(len(o))] * len(V)\n",
    "    \n",
    "    for j in range(len(grad_o)):\n",
    "        for i in range(len(h)):\n",
    "            grad_V[i][j] = grad_o[j] * h[i]\n",
    "            grad_h[i] += grad_o[j] * V[i][j]\n",
    "            \n",
    "    grad_c = zero_vector(len(c))\n",
    "    for i in range(len(c)):\n",
    "        grad_c[i] += grad_o[i] * 1 # ds/dc = dc/dc = 1\n",
    "\n",
    "    grad_k = zero_vector(len(k))\n",
    "    for i in range(len(h)):\n",
    "        grad_k[i] = grad_h[i] * (h[i] * (1 - h[i]))\n",
    "        \n",
    "    grad_W = [zero_vector(len(k))] * len(W)\n",
    "    for j in range(len(grad_k)):\n",
    "        for i in range(len(x)): \n",
    "            grad_W[i][j] = grad_k[j] * x[i]\n",
    "            \n",
    "    grad_b = zero_vector(len(b))\n",
    "    for i in range(len(k)):\n",
    "        grad_b[i] += grad_k[i] * 1 # dk/db = db/db = 1\n",
    "        \n",
    "    grad_x = zero_vector(len(x))\n",
    "    for j in range(len(k)):\n",
    "        for i in range(len(x)):\n",
    "            grad_x[i] += grad_k[i] * W[i][j]\n",
    "            \n",
    "    \n",
    "    gradients = {\n",
    "        'grad_V': grad_V,\n",
    "        'grad_c': grad_c,\n",
    "        'grad_W': grad_W,\n",
    "        'grad_b': grad_b,\n",
    "    }\n",
    "    \n",
    "    return gradients"
   ]
  },
  {
   "cell_type": "code",
   "execution_count": 7,
   "id": "83c610d9",
   "metadata": {},
   "outputs": [],
   "source": [
    "# Initializing inputs and weights\n",
    "x = [1, -1] # inputs\n",
    "W = [[1, 1, 1], [-1, -1, -1]] # weights\n",
    "b = zero_vector(3) # bias\n",
    "V = [[1, 1], [-1, -1], [-1, -1]]\n",
    "c = zero_vector(2)\n",
    "# y = [1, 0] # target class\n",
    "y = 1"
   ]
  },
  {
   "cell_type": "code",
   "execution_count": 9,
   "id": "506b830d",
   "metadata": {},
   "outputs": [],
   "source": [
    "params = forward_propagate(x, W, b, V, c)"
   ]
  },
  {
   "cell_type": "code",
   "execution_count": 23,
   "id": "56bed070",
   "metadata": {},
   "outputs": [
    {
     "data": {
      "text/plain": [
       "0.6931471805599453"
      ]
     },
     "execution_count": 23,
     "metadata": {},
     "output_type": "execute_result"
    }
   ],
   "source": [
    "y_pred = params['ypred']\n",
    "loss = calculate_loss(y_pred, y)\n",
    "loss"
   ]
  },
  {
   "cell_type": "code",
   "execution_count": 22,
   "id": "1f63fa58",
   "metadata": {},
   "outputs": [
    {
     "data": {
      "text/plain": [
       "{'grad_V': [[-0.44039853898894116, 0.44039853898894116],\n",
       "  [-0.44039853898894116, 0.44039853898894116],\n",
       "  [-0.44039853898894116, 0.44039853898894116]],\n",
       " 'grad_c': [-0.5, 0.5],\n",
       " 'grad_W': [[-0.0, -0.0, -0.0], [-0.0, -0.0, -0.0]],\n",
       " 'grad_b': [0.0, 0.0, 0.0]}"
      ]
     },
     "execution_count": 22,
     "metadata": {},
     "output_type": "execute_result"
    }
   ],
   "source": [
    "back_propagate(x, W, b, V, c, y, params)"
   ]
  },
  {
   "cell_type": "markdown",
   "id": "e700be34",
   "metadata": {},
   "source": [
    "## Question 4"
   ]
  },
  {
   "cell_type": "code",
   "execution_count": 24,
   "id": "d00d8726",
   "metadata": {},
   "outputs": [],
   "source": [
    "from data import load_synth\n",
    "import matplotlib.pyplot as plt"
   ]
  },
  {
   "cell_type": "code",
   "execution_count": 36,
   "id": "753d910b",
   "metadata": {},
   "outputs": [],
   "source": [
    "def propagate(x, W, b, V, c, y):\n",
    "    \n",
    "    parameters = forward_propagate(x, W, b, V, c)\n",
    "    prediction = parameters['ypred']\n",
    "    cost = calculate_loss(prediction, y)\n",
    "    gradients = back_propagate(x, W, b, V, c, y, parameters)\n",
    "    \n",
    "    return cost, gradients"
   ]
  },
  {
   "cell_type": "code",
   "execution_count": 37,
   "id": "3ae29262",
   "metadata": {},
   "outputs": [],
   "source": [
    "def optimize(Xset, W, b, V, c, Yset, num_iterations, learning_rate):\n",
    "    \n",
    "    losses = []\n",
    "    \n",
    "    for n in range(num_iterations):\n",
    "        for x, y in zip(Xset, Yset):\n",
    "            \n",
    "            loss, grads = propagate(x, W, b, V, c, y)\n",
    "            \n",
    "            grad_V = grads['grad_V']\n",
    "            grad_c = grads['grad_c']\n",
    "            grad_W = grads['grad_W']\n",
    "            grad_b = grads['grad_b']\n",
    "            \n",
    "            # W = W - (lr * grad_W)\n",
    "            W_update = [[t * learning_rate for t in u] for u in grad_W]\n",
    "            for i in range(len(W_update)):\n",
    "                for j in range(len(W[i])):\n",
    "                    W[i][j] -= W_update[i][j]    \n",
    "        \n",
    "            # b = b - (lr * grad_b)\n",
    "            b_update = [z * learning_rate for z in grad_b]\n",
    "            b = [t-u for t, u in zip(b, b_update)]\n",
    "        \n",
    "            # V = V - (lr * grad_V)\n",
    "            V_update = [[t * learning_rate for t in u] for u in grad_V]\n",
    "            for i in range(len(V_update)):\n",
    "                for j in range(len(V[i])):\n",
    "                    V[i][j] -= V_update[i][j]\n",
    "                \n",
    "            # c = c - (lr * grad_c)\n",
    "            c_update = [z * learning_rate for z in grad_b]\n",
    "            c = [t-u for t, u in zip(c, c_update)]\n",
    "            \n",
    "            # Recording the loss\n",
    "            losses.append(loss)\n",
    "                \n",
    "        weights = {'W': W, 'b': b, 'V': V, 'c': c}\n",
    "        \n",
    "        gr = {'grad_W': grad_W, 'grad_b': grad_b, 'grad_V': grad_V, 'grad_c': grad_c}\n",
    "        \n",
    "        return weights, gr, losses"
   ]
  },
  {
   "cell_type": "code",
   "execution_count": 38,
   "id": "b408cae2",
   "metadata": {},
   "outputs": [],
   "source": [
    "W1 = [[random.gauss(0, 1), random.gauss(0, 1), random.gauss(0, 1)], [random.gauss(0, 1), random.gauss(0, 1), random.gauss(0, 1)]] # weights\n",
    "b1 = zero_vector(3) # bias\n",
    "W2 = [[random.gauss(0, 1), random.gauss(0, 1)], [random.gauss(0, 1), random.gauss(0, 1)], [random.gauss(0, 1), random.gauss(0, 1)]]\n",
    "b2 = zero_vector(2)"
   ]
  },
  {
   "cell_type": "code",
   "execution_count": 39,
   "id": "336d78dc",
   "metadata": {},
   "outputs": [],
   "source": [
    "(xtrain, ytrain), (xval, yval), num_cls = load_synth()"
   ]
  },
  {
   "cell_type": "code",
   "execution_count": 54,
   "id": "1bcb1109",
   "metadata": {},
   "outputs": [],
   "source": [
    "weights_q4_001, grads_q4_001, losses_q4_001 = optimize(xtrain, W1, b1, W2, b2, ytrain, 1, 0.001)"
   ]
  },
  {
   "cell_type": "code",
   "execution_count": 55,
   "id": "97a76164",
   "metadata": {},
   "outputs": [
    {
     "data": {
      "image/png": "[encoded data removed]",
      "text/plain": [
       "<Figure size 432x288 with 1 Axes>"
      ]
     },
     "metadata": {
      "needs_background": "light"
     },
     "output_type": "display_data"
    }
   ],
   "source": [
    "# Plot learning curve (with losses)\n",
    "\n",
    "plt.plot(losses_q4_001)\n",
    "plt.ylabel('loss')\n",
    "plt.xlabel('iterations')\n",
    "plt.title(\"Learning rate = 0.001, 1 epochs\")\n",
    "plt.show()"
   ]
  },
  {
   "cell_type": "code",
   "execution_count": 42,
   "id": "5b1233da",
   "metadata": {},
   "outputs": [],
   "source": [
    "weights_q4_003, grads_q4_003, losses_q4_003 = optimize(xtrain, W1, b1, W2, b2, ytrain, 100, 0.003)"
   ]
  },
  {
   "cell_type": "code",
   "execution_count": 45,
   "id": "041daa88",
   "metadata": {},
   "outputs": [
    {
     "data": {
      "image/png": "[encoded data removed]",
      "text/plain": [
       "<Figure size 432x288 with 1 Axes>"
      ]
     },
     "metadata": {
      "needs_background": "light"
     },
     "output_type": "display_data"
    }
   ],
   "source": [
    "# Plot learning curve (with losses)\n",
    "\n",
    "plt.plot(losses_q4_003)\n",
    "plt.ylabel('loss')\n",
    "plt.xlabel('iterations')\n",
    "plt.title(\"Learning rate = 0.003, 100 epochs\")\n",
    "plt.show()"
   ]
  },
  {
   "cell_type": "code",
   "execution_count": 46,
   "id": "adde3b11",
   "metadata": {},
   "outputs": [],
   "source": [
    "weights_q4_01, grads_q4_01, losses_q4_01 = optimize(xtrain, W1, b1, W2, b2, ytrain, 100, 0.01)"
   ]
  },
  {
   "cell_type": "code",
   "execution_count": 49,
   "id": "bf5dcbd0",
   "metadata": {},
   "outputs": [
    {
     "data": {
      "image/png": "[encoded data removed]",
      "text/plain": [
       "<Figure size 432x288 with 1 Axes>"
      ]
     },
     "metadata": {
      "needs_background": "light"
     },
     "output_type": "display_data"
    }
   ],
   "source": [
    "# Plot learning curve (with losses)\n",
    "\n",
    "plt.plot(losses_q4_01)\n",
    "plt.ylabel('Loss, Learning rate = 0.01, 100 epochs')\n",
    "plt.xlabel('iterations')\n",
    "#plt.title()\n",
    "plt.show()"
   ]
  },
  {
   "cell_type": "code",
   "execution_count": 50,
   "id": "b3776b89",
   "metadata": {},
   "outputs": [],
   "source": [
    "weights_q4_03, grads_q4_03, losses_q4_03 = optimize(xtrain, W1, b1, W2, b2, ytrain, 100, 0.03)"
   ]
  },
  {
   "cell_type": "code",
   "execution_count": 51,
   "id": "9f2b1d9c",
   "metadata": {},
   "outputs": [
    {
     "data": {
      "image/png": "[encoded data removed]",
      "text/plain": [
       "<Figure size 432x288 with 1 Axes>"
      ]
     },
     "metadata": {
      "needs_background": "light"
     },
     "output_type": "display_data"
    }
   ],
   "source": [
    "# Plot learning curve (with losses)\n",
    "\n",
    "plt.plot(losses_q4_03)\n",
    "plt.ylabel('Loss, Learning rate = 0.03, 100 epochs')\n",
    "plt.xlabel('iterations')\n",
    "#plt.title()\n",
    "plt.show()"
   ]
  },
  {
   "cell_type": "code",
   "execution_count": null,
   "id": "fe8de7bb",
   "metadata": {},
   "outputs": [],
   "source": []
  }
 ],
 "metadata": {
  "kernelspec": {
   "display_name": "Python 3 (ipykernel)",
   "language": "python",
   "name": "python3"
  },
  "language_info": {
   "codemirror_mode": {
    "name": "ipython",
    "version": 3
   },
   "file_extension": ".py",
   "mimetype": "text/x-python",
   "name": "python",
   "nbconvert_exporter": "python",
   "pygments_lexer": "ipython3",
   "version": "3.9.12"
  }
 },
 "nbformat": 4,
 "nbformat_minor": 5
}
